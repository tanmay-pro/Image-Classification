{
 "cells": [
  {
   "cell_type": "markdown",
   "metadata": {},
   "source": [
    "# Part 1: SIFT-BoVW-SVM"
   ]
  },
  {
   "cell_type": "markdown",
   "metadata": {},
   "source": [
    "### Implementation of SIFT detector and descriptor"
   ]
  },
  {
   "cell_type": "code",
   "execution_count": 4,
   "metadata": {},
   "outputs": [],
   "source": [
    "import torch\n",
    "import torchvision\n",
    "import torchvision.transforms as transforms\n",
    "import torch.nn as nn\n",
    "import torch.optim as optim\n",
    "import numpy as np\n",
    "import cv2\n",
    "from tqdm import tqdm\n",
    "from sklearn.cluster import KMeans\n",
    "from sklearn.svm import SVC\n",
    "from sklearn.pipeline import make_pipeline\n",
    "from sklearn.preprocessing import StandardScaler\n",
    "from sklearn.metrics import accuracy_score\n",
    "from sklearn.model_selection import train_test_split"
   ]
  },
  {
   "cell_type": "code",
   "execution_count": 5,
   "metadata": {},
   "outputs": [
    {
     "data": {
      "text/plain": [
       "<torch._C.Generator at 0x7f89e4928d70>"
      ]
     },
     "execution_count": 5,
     "metadata": {},
     "output_type": "execute_result"
    }
   ],
   "source": [
    "transform = transforms.Compose([\n",
    "    transforms.ToTensor(),\n",
    "])  \n",
    "trainset = torchvision.datasets.MNIST(root='./data', train=True, download=True, transform=transform)\n",
    "trainloader = torch.utils.data.DataLoader(trainset, batch_size=64, shuffle=True)\n",
    "\n",
    "testset = torchvision.datasets.MNIST(root='./data', train=False, download=True, transform=transform)\n",
    "testloader = torch.utils.data.DataLoader(testset, batch_size=64, shuffle=False)\n",
    "torch.manual_seed(0)"
   ]
  },
  {
   "cell_type": "markdown",
   "metadata": {},
   "source": [
    "### Compute Cluster centres using bag of visual words"
   ]
  },
  {
   "cell_type": "code",
   "execution_count": 10,
   "metadata": {},
   "outputs": [],
   "source": [
    "def performSift(image):\n",
    "    sift = cv2.SIFT_create()\n",
    "    image = np.array(image)\n",
    "    keypoints = sift.detect(image, None)\n",
    "    keypoints, descriptors = sift.compute(image, keypoints)\n",
    "    return descriptors\n",
    "\n",
    "def histogram_of_features(inpData, kmeans, n_clusters):\n",
    "    hist = []\n",
    "    for i in tqdm(range(len(inpData))):\n",
    "        image, label = inpData[i]\n",
    "        image = cv2.normalize(image.numpy(), None, 0, 255, cv2.NORM_MINMAX). astype(np.uint8)\n",
    "        image = image.squeeze()\n",
    "        desc = performSift(image)\n",
    "        if desc is None:\n",
    "            hist.append(np.zeros(n_clusters))\n",
    "            continue\n",
    "        histogram = np.histogram(kmeans.predict(desc), bins=n_clusters, range=(0, n_clusters))[0]\n",
    "        hist.append(histogram)\n",
    "    return np.vstack(hist)\n",
    "\n",
    "def cluster_features(desc, n_clusters):\n",
    "    kmeans = KMeans(n_clusters=n_clusters, random_state=0)\n",
    "    kmeans.fit(desc)\n",
    "    return kmeans"
   ]
  },
  {
   "cell_type": "markdown",
   "metadata": {},
   "source": [
    "### Train a linear SVM for 10 way classification"
   ]
  },
  {
   "cell_type": "code",
   "execution_count": 11,
   "metadata": {},
   "outputs": [
    {
     "name": "stderr",
     "output_type": "stream",
     "text": [
      "100%|██████████| 938/938 [00:42<00:00, 22.21it/s]\n",
      "100%|██████████| 157/157 [00:07<00:00, 22.17it/s]\n"
     ]
    }
   ],
   "source": [
    "trainDesc = []\n",
    "testDesc = []\n",
    "for images, labels in tqdm(trainloader):\n",
    "    for image in images:\n",
    "        image = cv2.normalize(image.numpy(), None, 0, 255, cv2.NORM_MINMAX).astype('uint8')\n",
    "        image = image.squeeze()\n",
    "        desc = performSift(image)\n",
    "        if desc is not None:\n",
    "            trainDesc.append(desc)\n",
    "for images, labels in tqdm(testloader):\n",
    "    for image in images:\n",
    "        image = cv2.normalize(image.numpy(), None, 0, 255, cv2.NORM_MINMAX).astype('uint8')\n",
    "        image = image.squeeze()\n",
    "        desc = performSift(image)\n",
    "        if desc is not None:\n",
    "            testDesc.append(desc)"
   ]
  },
  {
   "cell_type": "code",
   "execution_count": 14,
   "metadata": {},
   "outputs": [
    {
     "name": "stdout",
     "output_type": "stream",
     "text": [
      "(469437, 128)\n"
     ]
    }
   ],
   "source": [
    "numClusters = 3\n",
    "\n",
    "traink = np.vstack(trainDesc)\n",
    "print(traink.shape)\n",
    "kmeans = cluster_features(traink, numClusters)"
   ]
  },
  {
   "cell_type": "code",
   "execution_count": 15,
   "metadata": {},
   "outputs": [
    {
     "name": "stderr",
     "output_type": "stream",
     "text": [
      "100%|██████████| 60000/60000 [01:03<00:00, 938.01it/s] \n",
      "100%|██████████| 10000/10000 [00:10<00:00, 940.03it/s]\n"
     ]
    }
   ],
   "source": [
    "trainHist = histogram_of_features(trainset, kmeans, numClusters)\n",
    "testHist = histogram_of_features(testset, kmeans, numClusters)\n",
    "trainLabel = [label for _, label in trainset]\n",
    "testLabel = [label for _, label in testset]"
   ]
  },
  {
   "cell_type": "code",
   "execution_count": 16,
   "metadata": {},
   "outputs": [
    {
     "name": "stdout",
     "output_type": "stream",
     "text": [
      "0.2506\n"
     ]
    }
   ],
   "source": [
    "svm_model = make_pipeline(StandardScaler(), SVC(kernel='linear'))\n",
    "svm_model.fit(trainHist, trainLabel)\n",
    "predicted = svm_model.predict(testHist)\n",
    "accuracy = accuracy_score(testLabel, predicted, normalize=True)\n",
    "print(accuracy)"
   ]
  },
  {
   "cell_type": "markdown",
   "metadata": {},
   "source": [
    "### Visualization of classification accuracy with change in number of clusters"
   ]
  },
  {
   "cell_type": "code",
   "execution_count": 18,
   "metadata": {},
   "outputs": [
    {
     "name": "stderr",
     "output_type": "stream",
     "text": [
      "100%|██████████| 60000/60000 [01:07<00:00, 885.94it/s]\n",
      "100%|██████████| 10000/10000 [00:10<00:00, 991.72it/s]\n",
      "100%|██████████| 60000/60000 [01:03<00:00, 950.94it/s] \n",
      "100%|██████████| 10000/10000 [00:09<00:00, 1003.03it/s]\n",
      "100%|██████████| 60000/60000 [01:04<00:00, 932.26it/s]\n",
      "100%|██████████| 10000/10000 [00:11<00:00, 907.20it/s]\n",
      "100%|██████████| 60000/60000 [01:06<00:00, 902.26it/s]\n",
      "100%|██████████| 10000/10000 [00:11<00:00, 888.94it/s]\n",
      "100%|██████████| 60000/60000 [01:01<00:00, 978.97it/s] \n",
      "100%|██████████| 10000/10000 [00:09<00:00, 1008.05it/s]\n",
      "100%|██████████| 60000/60000 [01:00<00:00, 994.04it/s]\n",
      "100%|██████████| 10000/10000 [00:10<00:00, 979.60it/s]\n",
      "100%|██████████| 6/6 [1:54:45<00:00, 1147.61s/it]\n"
     ]
    }
   ],
   "source": [
    "clusterNums = [1, 3, 10, 30, 50, 100]\n",
    "accuracy = []\n",
    "for numClusters in tqdm(clusterNums):\n",
    "    kmeans = cluster_features(traink, numClusters)\n",
    "    trainHist = histogram_of_features(trainset, kmeans, numClusters)\n",
    "    testHist = histogram_of_features(testset, kmeans, numClusters)\n",
    "    svm_model = make_pipeline(StandardScaler(), SVC(kernel='linear'))\n",
    "    svm_model.fit(trainHist, trainLabel)\n",
    "    predicted = svm_model.predict(testHist)\n",
    "    accuracy.append(accuracy_score(testLabel, predicted, normalize=True))"
   ]
  },
  {
   "cell_type": "code",
   "execution_count": 19,
   "metadata": {},
   "outputs": [
    {
     "data": {
      "text/plain": [
       "Text(0, 0.5, 'Accuracy')"
      ]
     },
     "execution_count": 19,
     "metadata": {},
     "output_type": "execute_result"
    },
    {
     "data": {
      "image/png": "[encoded data removed]",
      "text/plain": [
       "<Figure size 640x480 with 1 Axes>"
      ]
     },
     "metadata": {},
     "output_type": "display_data"
    }
   ],
   "source": [
    "import matplotlib.pyplot as plt\n",
    "plt.plot(clusterNums, accuracy)\n",
    "plt.xlabel('Number of Clusters')\n",
    "plt.ylabel('Accuracy')"
   ]
  },
  {
   "cell_type": "code",
   "execution_count": 26,
   "metadata": {},
   "outputs": [
    {
     "name": "stdout",
     "output_type": "stream",
     "text": [
      "Number of Clusters: 1, Accuracy: 0.2043\n",
      "Number of Clusters: 3, Accuracy: 0.2506\n",
      "Number of Clusters: 10, Accuracy: 0.4257\n",
      "Number of Clusters: 30, Accuracy: 0.598\n",
      "Number of Clusters: 50, Accuracy: 0.6713\n",
      "Number of Clusters: 100, Accuracy: 0.7529\n"
     ]
    }
   ],
   "source": [
    "for index, acc in enumerate(accuracy):\n",
    "    print(f'Number of Clusters: {clusterNums[index]}, Accuracy: {acc}')"
   ]
  },
  {
   "cell_type": "markdown",
   "metadata": {},
   "source": [
    "- With the increase in number of clusters, the classification accuracy increases. This is because with the increase in number of clusters, each cluster becomes more specific to certain visual patterns or features within the images. This then enables better discrimination between different classes, as the histogram of visual words capture more detailed information. \n",
    "- There is a maximum optimal number of clusters after which the accuracy will stop increasing (cas we can see from the concave down shape of the graph). The accuracy might even start decreasing beyond this optimal number, due to increased complexity and overfitting.\n",
    "- Among my selection, 100 clusters presents the best accuracy."
   ]
  },
  {
   "cell_type": "markdown",
   "metadata": {},
   "source": [
    "### Result Visualization for different hyperparameter settings"
   ]
  },
  {
   "cell_type": "code",
   "execution_count": 16,
   "metadata": {},
   "outputs": [],
   "source": [
    "def performSiftHyp(image, numFeatures, thresh):\n",
    "    sift = cv2.SIFT_create(nfeatures=numFeatures, contrastThreshold=thresh)\n",
    "    image = np.array(image)\n",
    "    keypoints = sift.detect(image, None)\n",
    "    keypoints, descriptors = sift.compute(image, keypoints)\n",
    "    return descriptors\n",
    "\n",
    "def histogram_of_featuresHyp(inpData, kmeans, n_clusters, numFeatures, thresh):\n",
    "    hist = []\n",
    "    for i in tqdm(range(len(inpData))):\n",
    "        image, label = inpData[i]\n",
    "        image = cv2.normalize(image.numpy(), None, 0, 255, cv2.NORM_MINMAX). astype(np.uint8)\n",
    "        image = image.squeeze()\n",
    "        desc = performSiftHyp(image, numFeatures, thresh)\n",
    "        if desc is None:\n",
    "            hist.append(np.zeros(n_clusters))\n",
    "            continue\n",
    "        histogram = np.histogram(kmeans.predict(desc), bins=n_clusters, range=(0, n_clusters))[0]\n",
    "        hist.append(histogram)\n",
    "    return np.vstack(hist)\n",
    "\n",
    "def cluster_featuresHyp(desc, n_clusters):\n",
    "    kmeans = KMeans(n_clusters=n_clusters, random_state=0)\n",
    "    kmeans.fit(desc)\n",
    "    return kmeans\n",
    "\n",
    "\n",
    "def getAccuracy(numClusters, trainset, testset, c, numFeatures, thresh):\n",
    "    trainDesc = []\n",
    "    testDesc = []\n",
    "    for images, labels in tqdm(trainloader):\n",
    "        for image in images:\n",
    "            image = cv2.normalize(image.numpy(), None, 0, 255, cv2.NORM_MINMAX).astype('uint8')\n",
    "            image = image.squeeze()\n",
    "            desc = performSiftHyp(image, numFeatures, thresh)\n",
    "            if desc is not None:\n",
    "                trainDesc.append(desc)\n",
    "    for images, labels in tqdm(testloader):\n",
    "        for image in images:\n",
    "            image = cv2.normalize(image.numpy(), None, 0, 255, cv2.NORM_MINMAX).astype('uint8')\n",
    "            image = image.squeeze()\n",
    "            desc = performSiftHyp(image, numFeatures, thresh)\n",
    "            if desc is not None:\n",
    "                testDesc.append(desc)\n",
    "    traink = np.vstack(trainDesc)\n",
    "    kmeans = cluster_featuresHyp(traink, numClusters)\n",
    "    trainHist = histogram_of_featuresHyp(trainset, kmeans, numClusters, numFeatures, thresh)\n",
    "    testHist = histogram_of_featuresHyp(testset, kmeans, numClusters, numFeatures, thresh)\n",
    "    trainLabel = [label for _, label in trainset]\n",
    "    testLabel = [label for _, label in testset]\n",
    "    svm_model = make_pipeline(StandardScaler(), SVC(kernel='linear', C=c))\n",
    "    svm_model.fit(trainHist, trainLabel)\n",
    "    predicted = svm_model.predict(testHist)\n",
    "    return accuracy_score(testLabel, predicted, normalize=True)"
   ]
  },
  {
   "cell_type": "code",
   "execution_count": 19,
   "metadata": {},
   "outputs": [
    {
     "name": "stderr",
     "output_type": "stream",
     "text": [
      "100%|██████████| 938/938 [00:43<00:00, 21.52it/s]\n",
      "100%|██████████| 157/157 [00:07<00:00, 21.93it/s]\n",
      "100%|██████████| 60000/60000 [01:04<00:00, 923.48it/s]\n",
      "100%|██████████| 10000/10000 [00:10<00:00, 925.36it/s]\n"
     ]
    },
    {
     "name": "stdout",
     "output_type": "stream",
     "text": [
      "For the parameters: numClusters = 100, c = 0.1, nFeatures = 100, constThreshold = 0.02, the accuracy is: 0.7475\n"
     ]
    }
   ],
   "source": [
    "numClusters = 100\n",
    "c = 0.1\n",
    "nFeatures = 100\n",
    "constThreshold = 0.02\n",
    "accuracy = getAccuracy(numClusters, trainset, testset, c, nFeatures, constThreshold)\n",
    "print(\"For the parameters: numClusters = {}, c = {}, nFeatures = {}, constThreshold = {}, the accuracy is: {}\".format(numClusters, c, nFeatures, constThreshold, accuracy))"
   ]
  },
  {
   "cell_type": "code",
   "execution_count": 20,
   "metadata": {},
   "outputs": [
    {
     "name": "stderr",
     "output_type": "stream",
     "text": [
      "100%|██████████| 938/938 [00:42<00:00, 21.81it/s]\n",
      "100%|██████████| 157/157 [00:07<00:00, 21.99it/s]\n",
      "100%|██████████| 60000/60000 [01:04<00:00, 931.48it/s]\n",
      "100%|██████████| 10000/10000 [00:11<00:00, 899.35it/s]\n"
     ]
    },
    {
     "name": "stdout",
     "output_type": "stream",
     "text": [
      "For the parameters: numClusters = 100, c = 1, nFeatures = 200, constThreshold = 0.04, the accuracy is: 0.7526\n"
     ]
    }
   ],
   "source": [
    "c = 1\n",
    "nFeatures = 200\n",
    "constThreshold = 0.04\n",
    "accuracy = getAccuracy(numClusters, trainset, testset, c, nFeatures, constThreshold)\n",
    "print(\"For the parameters: numClusters = {}, c = {}, nFeatures = {}, constThreshold = {}, the accuracy is: {}\".format(numClusters, c, nFeatures, constThreshold, accuracy))"
   ]
  },
  {
   "cell_type": "code",
   "execution_count": 21,
   "metadata": {},
   "outputs": [
    {
     "name": "stderr",
     "output_type": "stream",
     "text": [
      "100%|██████████| 938/938 [00:43<00:00, 21.80it/s]\n",
      "100%|██████████| 157/157 [00:07<00:00, 21.83it/s]\n",
      "100%|██████████| 60000/60000 [01:05<00:00, 917.30it/s]\n",
      "100%|██████████| 10000/10000 [00:10<00:00, 947.07it/s]\n"
     ]
    },
    {
     "name": "stdout",
     "output_type": "stream",
     "text": [
      "For the parameters: numClusters = 100, c = 10, nFeatures = 300, constThreshold = 0.06, the accuracy is: 0.7521\n"
     ]
    }
   ],
   "source": [
    "c = 10\n",
    "nFeatures = 300\n",
    "constThreshold = 0.06\n",
    "accuracy = getAccuracy(numClusters, trainset, testset, c, nFeatures, constThreshold)\n",
    "print(\"For the parameters: numClusters = {}, c = {}, nFeatures = {}, constThreshold = {}, the accuracy is: {}\".format(numClusters, c, nFeatures, constThreshold, accuracy))"
   ]
  },
  {
   "cell_type": "code",
   "execution_count": 22,
   "metadata": {},
   "outputs": [
    {
     "name": "stderr",
     "output_type": "stream",
     "text": [
      "100%|██████████| 938/938 [00:42<00:00, 21.84it/s]\n",
      "100%|██████████| 157/157 [00:07<00:00, 22.35it/s]\n",
      "100%|██████████| 60000/60000 [01:02<00:00, 966.13it/s] \n",
      "100%|██████████| 10000/10000 [00:10<00:00, 960.49it/s]\n"
     ]
    },
    {
     "name": "stdout",
     "output_type": "stream",
     "text": [
      "For the parameters: numClusters = 100, c = 0.1, nFeatures = 150, constThreshold = 0.03, the accuracy is: 0.7499\n"
     ]
    }
   ],
   "source": [
    "c = 0.1\n",
    "nFeatures = 150\n",
    "constThreshold = 0.03\n",
    "accuracy = getAccuracy(numClusters, trainset, testset, c, nFeatures, constThreshold)\n",
    "print(\"For the parameters: numClusters = {}, c = {}, nFeatures = {}, constThreshold = {}, the accuracy is: {}\".format(numClusters, c, nFeatures, constThreshold, accuracy))\n"
   ]
  },
  {
   "cell_type": "code",
   "execution_count": 23,
   "metadata": {},
   "outputs": [
    {
     "name": "stderr",
     "output_type": "stream",
     "text": [
      "100%|██████████| 938/938 [00:41<00:00, 22.38it/s]\n",
      "100%|██████████| 157/157 [00:07<00:00, 21.95it/s]\n",
      "100%|██████████| 60000/60000 [01:04<00:00, 926.04it/s] \n",
      "100%|██████████| 10000/10000 [00:10<00:00, 948.97it/s]\n"
     ]
    },
    {
     "name": "stdout",
     "output_type": "stream",
     "text": [
      "For the parameters: numClusters = 100, c = 1, nFeatures = 250, constThreshold = 0.05, the accuracy is: 0.7475\n"
     ]
    }
   ],
   "source": [
    "c = 1\n",
    "nFeatures = 250\n",
    "constThreshold = 0.05\n",
    "accuracy = getAccuracy(numClusters, trainset, testset, c, nFeatures, constThreshold)\n",
    "print(\"For the parameters: numClusters = {}, c = {}, nFeatures = {}, constThreshold = {}, the accuracy is: {}\".format(numClusters, c, nFeatures, constThreshold, accuracy))"
   ]
  },
  {
   "cell_type": "code",
   "execution_count": 24,
   "metadata": {},
   "outputs": [
    {
     "name": "stderr",
     "output_type": "stream",
     "text": [
      "100%|██████████| 938/938 [00:43<00:00, 21.58it/s]\n",
      "100%|██████████| 157/157 [00:07<00:00, 22.05it/s]\n",
      "100%|██████████| 60000/60000 [01:06<00:00, 895.78it/s]\n",
      "100%|██████████| 10000/10000 [00:11<00:00, 901.73it/s]\n"
     ]
    },
    {
     "name": "stdout",
     "output_type": "stream",
     "text": [
      "For the parameters: numClusters = 100, c = 10, nFeatures = 350, constThreshold = 0.07, the accuracy is: 0.756\n"
     ]
    }
   ],
   "source": [
    "c = 10\n",
    "nFeatures = 350\n",
    "constThreshold = 0.07\n",
    "accuracy = getAccuracy(numClusters, trainset, testset, c, nFeatures, constThreshold)\n",
    "print(\"For the parameters: numClusters = {}, c = {}, nFeatures = {}, constThreshold = {}, the accuracy is: {}\".format(numClusters, c, nFeatures, constThreshold, accuracy))"
   ]
  },
  {
   "cell_type": "markdown",
   "metadata": {},
   "source": [
    "- With increase in the regularization parameter (C), the accuracy values gradually increase as we can see from our observations. Accuracy values range from approximately 0.7475 to 0.756, indicating that changing C within the given range does not significantly impact classification performance.\n",
    "- There's a slight variation in accuracy when changing the number of SIFT features. The highest accuracy (0.756) is achieved with a higher number of features (nFeatures = 350), while lower accuracies are observed with fewer features.\n",
    "- Overall, the observed trends suggest that the choice of SVM regularization parameter (C) and the number of SIFT features (nFeatures) have a relatively modest impact on classification accuracy, while variations in SIFT descriptor parameters (constThreshold) seem to have minimal effect."
   ]
  },
  {
   "cell_type": "markdown",
   "metadata": {},
   "source": [
    "# Part 2: CNNs and Transformers"
   ]
  },
  {
   "cell_type": "markdown",
   "metadata": {},
   "source": [
    "### Use LeNet for performing classification on MNIST"
   ]
  },
  {
   "cell_type": "code",
   "execution_count": 8,
   "metadata": {},
   "outputs": [],
   "source": [
    "import torch\n",
    "import torch.nn as nn\n",
    "import torch.optim as optim\n",
    "import torch.nn.functional as F\n",
    "from torch.utils.data import DataLoader, random_split\n",
    "from torchvision import datasets, transforms\n",
    "import wandb"
   ]
  },
  {
   "cell_type": "code",
   "execution_count": null,
   "metadata": {},
   "outputs": [],
   "source": [
    "wandb.init(project=\"MNIST\")\n",
    "device = torch.device('cuda' if torch.cuda.is_available() else 'cpu')\n",
    "torch.manual_seed(42)"
   ]
  },
  {
   "cell_type": "code",
   "execution_count": 25,
   "metadata": {},
   "outputs": [],
   "source": [
    "class leNet(nn.Module):\n",
    "    def __init__(self):\n",
    "        super(leNet, self).__init__()\n",
    "        self.conv1 = nn.Conv2d(1, 6, 5)\n",
    "        self.pool = nn.MaxPool2d(2)\n",
    "        self.conv2 = nn.Conv2d(6, 16, 5)\n",
    "        self.fc1 = nn.Linear(16*4*4, 120)\n",
    "        self.fc2 = nn.Linear(120, 84)\n",
    "        self.fc3 = nn.Linear(84, 10)\n",
    "\n",
    "    def forward(self, x):\n",
    "        x = self.pool(F.relu(self.conv1(x)))\n",
    "        x = self.pool(F.relu(self.conv2(x)))\n",
    "        x = torch.flatten(x, 1)\n",
    "        x = F.relu(self.fc1(x))\n",
    "        x = F.relu(self.fc2(x))\n",
    "        x = self.fc3(x)\n",
    "        return x\n",
    "\n",
    "\n",
    "transform = transforms.Compose([\n",
    "    transforms.ToTensor(),\n",
    "    transforms.Normalize((0.5,), (0.5,))\n",
    "])\n",
    "\n",
    "train_dataset = datasets.MNIST(root='./data', train=True, download=True, transform=transform)\n",
    "test_dataset = datasets.MNIST(root='./data', train=False, download=True, transform=transform)"
   ]
  },
  {
   "cell_type": "code",
   "execution_count": 26,
   "metadata": {},
   "outputs": [],
   "source": [
    "def dataLoaders(train_dataset, test_dataset, batch_size):\n",
    "    trainSize = int(0.9 * len(train_dataset))\n",
    "    valSize = len(train_dataset) - trainSize\n",
    "    train_dataset, val_dataset = random_split(train_dataset, [trainSize, valSize])\n",
    "    trainLoader = DataLoader(train_dataset, batch_size=batch_size, shuffle=True)\n",
    "    valLoader = DataLoader(val_dataset, batch_size=batch_size, shuffle=True)\n",
    "    testLoader = DataLoader(test_dataset, batch_size=batch_size, shuffle=True)\n",
    "    return trainLoader, valLoader, testLoader"
   ]
  },
  {
   "cell_type": "code",
   "execution_count": 30,
   "metadata": {},
   "outputs": [],
   "source": [
    "def train(model, criterion, optimizer, epochs, trainLoader, valLoader, device):\n",
    "    \n",
    "    trainingLosses = []\n",
    "    validationLosses = []\n",
    "    for epoch in range(epochs):\n",
    "        running_loss = 0.0\n",
    "        for i, data in enumerate(trainLoader, 0):\n",
    "            inputs, labels = data\n",
    "            inputs = inputs.to(device)\n",
    "            labels = labels.to(device)\n",
    "            optimizer.zero_grad()\n",
    "            outputs = model(inputs)\n",
    "            loss = criterion(outputs, labels)\n",
    "            loss.backward()\n",
    "            optimizer.step()\n",
    "            running_loss += loss.item()\n",
    "            # print(i)\n",
    "            # if i % 400 == 399:\n",
    "            #     print(f'[{epoch + 1}, {i + 1}] Training loss: {running_loss / 400}')\n",
    "            #     running_loss = 0.0\n",
    "        correct = 0\n",
    "        total = 0\n",
    "        with torch.no_grad():\n",
    "            loss = 0.0\n",
    "            for data in valLoader:\n",
    "                images, labels = data\n",
    "                images = images.to(device)\n",
    "                labels = labels.to(device)\n",
    "                outputs = model(images)\n",
    "                loss += criterion(outputs, labels).item()\n",
    "                _, predicted = torch.max(outputs.data, 1)\n",
    "                total += labels.size(0)\n",
    "                correct += (predicted == labels).sum().item()\n",
    "            print(f'[{epoch + 1}] Training loss: {running_loss / len(trainLoader)}')\n",
    "            print(f'[{epoch + 1}] Validation Accuracy: {100 * correct / total}')\n",
    "            wandb.log({'loss': loss / len(valLoader), 'accuracy': 100 * correct / total})\n",
    "            print(f'[{epoch + 1}] Validation loss: {loss / len(valLoader)}')\n",
    "            validationLosses.append(loss / len(valLoader))\n",
    "            trainingLosses.append(running_loss / len(trainLoader))\n",
    "\n",
    "    torch.save(model.state_dict(), 'model.pth')\n",
    "    print('Finished Training')\n",
    "    return trainingLosses, validationLosses\n",
    "\n",
    "\n",
    "def test(model, testLoader):\n",
    "    correct = 0\n",
    "    total = 0\n",
    "    with torch.no_grad():\n",
    "        for data in testLoader:\n",
    "            images, labels = data\n",
    "            images = images.to(device)\n",
    "            labels = labels.to(device)\n",
    "            outputs = model(images)\n",
    "            _, predicted = torch.max(outputs.data, 1)\n",
    "            total += labels.size(0)\n",
    "            correct += (predicted == labels).sum().item()\n",
    "        wandb.log({'test_accuracy': 100 * correct / total})\n",
    "        print('Accuracy of the network on the {} test images: {:.1f}'.format(total, 100 * correct / total))\n"
   ]
  },
  {
   "cell_type": "code",
   "execution_count": 31,
   "metadata": {},
   "outputs": [],
   "source": [
    "model = leNet()\n",
    "model = model.to(device)\n",
    "# device = torch.device('cpu')\n",
    "criterion = nn.CrossEntropyLoss()\n",
    "optimizer = optim.Adam(model.parameters(), lr=0.001)\n",
    "epochs = 10\n",
    "batch_size = 64"
   ]
  },
  {
   "cell_type": "code",
   "execution_count": 32,
   "metadata": {},
   "outputs": [
    {
     "name": "stdout",
     "output_type": "stream",
     "text": [
      "[1] Training loss: 0.27493185139817333\n",
      "[1] Validation Accuracy: 97.58333333333333\n",
      "[1] Validation loss: 0.08424770894480195\n",
      "[2] Training loss: 0.07516877019614582\n",
      "[2] Validation Accuracy: 97.91666666666667\n",
      "[2] Validation loss: 0.06981120870369388\n",
      "[3] Training loss: 0.05413597133214766\n",
      "[3] Validation Accuracy: 98.16666666666667\n",
      "[3] Validation loss: 0.058621732364507746\n",
      "[4] Training loss: 0.041648425441221514\n",
      "[4] Validation Accuracy: 98.16666666666667\n",
      "[4] Validation loss: 0.0667716283475029\n",
      "[5] Training loss: 0.03613792669964056\n",
      "[5] Validation Accuracy: 98.31666666666666\n",
      "[5] Validation loss: 0.05257486752135322\n",
      "[6] Training loss: 0.029230888686974595\n",
      "[6] Validation Accuracy: 98.55\n",
      "[6] Validation loss: 0.04678638338141064\n",
      "[7] Training loss: 0.02618330423639835\n",
      "[7] Validation Accuracy: 98.7\n",
      "[7] Validation loss: 0.04834337306501185\n",
      "[8] Training loss: 0.02077450756945259\n",
      "[8] Validation Accuracy: 98.66666666666667\n",
      "[8] Validation loss: 0.04906638457899309\n",
      "[9] Training loss: 0.019708646185407085\n",
      "[9] Validation Accuracy: 98.45\n",
      "[9] Validation loss: 0.05565284324984532\n",
      "[10] Training loss: 0.018228067515092206\n",
      "[10] Validation Accuracy: 98.65\n",
      "[10] Validation loss: 0.05033082688091684\n",
      "Finished Training\n",
      "Accuracy of the network on the 10000 test images: 98.8\n"
     ]
    }
   ],
   "source": [
    "trainLoader, valLoader, testLoader = dataLoaders(train_dataset, test_dataset, batch_size)\n",
    "trainingLoss, validationLoss = train(model, criterion, optimizer, epochs, trainLoader, valLoader, device)\n",
    "test(model, testLoader)"
   ]
  },
  {
   "cell_type": "code",
   "execution_count": 33,
   "metadata": {},
   "outputs": [
    {
     "data": {
      "image/png": "[encoded data removed]",
      "text/plain": [
       "<Figure size 640x480 with 1 Axes>"
      ]
     },
     "metadata": {},
     "output_type": "display_data"
    }
   ],
   "source": [
    "import matplotlib.pyplot as plt\n",
    "plt.plot(trainingLoss, label='Training Loss')\n",
    "plt.plot(validationLoss, label='Validation Loss')\n",
    "plt.xlabel('Epoch')\n",
    "plt.ylabel('Loss')\n",
    "plt.legend()\n",
    "plt.show()\n"
   ]
  },
  {
   "cell_type": "markdown",
   "metadata": {},
   "source": [
    "### Visualize results for various hyperparameter settings "
   ]
  },
  {
   "cell_type": "code",
   "execution_count": 34,
   "metadata": {},
   "outputs": [
    {
     "name": "stdout",
     "output_type": "stream",
     "text": [
      "[1] Training loss: 0.010059480877980745\n",
      "[1] Validation Accuracy: 99.75\n",
      "[1] Validation loss: 0.008006093293904493\n",
      "[2] Training loss: 0.006368298794372145\n",
      "[2] Validation Accuracy: 99.81666666666666\n",
      "[2] Validation loss: 0.008291937135919745\n",
      "[3] Training loss: 0.0045336443455921\n",
      "[3] Validation Accuracy: 99.76666666666667\n",
      "[3] Validation loss: 0.008307385548443727\n",
      "[4] Training loss: 0.0035292415351579117\n",
      "[4] Validation Accuracy: 99.8\n",
      "[4] Validation loss: 0.009411695943793243\n",
      "[5] Training loss: 0.0028277333228167193\n",
      "[5] Validation Accuracy: 99.78333333333333\n",
      "[5] Validation loss: 0.00857433715595114\n",
      "[6] Training loss: 0.0021762745548485137\n",
      "[6] Validation Accuracy: 99.75\n",
      "[6] Validation loss: 0.01132240623558197\n",
      "[7] Training loss: 0.001624039630828898\n",
      "[7] Validation Accuracy: 99.75\n",
      "[7] Validation loss: 0.009618476274064936\n",
      "[8] Training loss: 0.0013026447143218917\n",
      "[8] Validation Accuracy: 99.73333333333333\n",
      "[8] Validation loss: 0.010569205352773753\n",
      "[9] Training loss: 0.0011068533626134368\n",
      "[9] Validation Accuracy: 99.7\n",
      "[9] Validation loss: 0.011531707434968385\n",
      "[10] Training loss: 0.0008912324131726011\n",
      "[10] Validation Accuracy: 99.75\n",
      "[10] Validation loss: 0.012092525412269201\n",
      "Finished Training\n",
      "Accuracy of the network on the 10000 test images: 99.1\n"
     ]
    }
   ],
   "source": [
    "batch_size = 32\n",
    "lr = 0.0001\n",
    "epochs = 10\n",
    "optimizer = optim.Adam(model.parameters(), lr=lr)\n",
    "trainLoader, valLoader, testLoader = dataLoaders(train_dataset, test_dataset, batch_size)\n",
    "train(model, criterion, optimizer, epochs, trainLoader, valLoader, device)\n",
    "test(model, testLoader)"
   ]
  },
  {
   "cell_type": "code",
   "execution_count": 35,
   "metadata": {},
   "outputs": [
    {
     "name": "stdout",
     "output_type": "stream",
     "text": [
      "[1] Training loss: 0.007322144390985676\n",
      "[1] Validation Accuracy: 99.16666666666667\n",
      "[1] Validation loss: 0.030602307057264664\n",
      "[2] Training loss: 0.006231511368036748\n",
      "[2] Validation Accuracy: 99.61666666666666\n",
      "[2] Validation loss: 0.012628216729044265\n",
      "[3] Training loss: 0.004182835416182189\n",
      "[3] Validation Accuracy: 99.76666666666667\n",
      "[3] Validation loss: 0.00864944054330621\n",
      "[4] Training loss: 0.003701029500291228\n",
      "[4] Validation Accuracy: 99.63333333333334\n",
      "[4] Validation loss: 0.011728889576556384\n",
      "[5] Training loss: 0.002784419491312395\n",
      "[5] Validation Accuracy: 99.76666666666667\n",
      "[5] Validation loss: 0.008480243996833703\n",
      "[6] Training loss: 0.0015463701531554653\n",
      "[6] Validation Accuracy: 99.8\n",
      "[6] Validation loss: 0.009461053768065459\n",
      "[7] Training loss: 0.0010377883531050337\n",
      "[7] Validation Accuracy: 99.85\n",
      "[7] Validation loss: 0.00801270672303705\n",
      "[8] Training loss: 0.0005316339902588931\n",
      "[8] Validation Accuracy: 99.88333333333334\n",
      "[8] Validation loss: 0.006870295750592265\n",
      "[9] Training loss: 0.00041975597415481954\n",
      "[9] Validation Accuracy: 99.85\n",
      "[9] Validation loss: 0.008764311693507588\n",
      "[10] Training loss: 0.0006369532610319316\n",
      "[10] Validation Accuracy: 99.85\n",
      "[10] Validation loss: 0.008075835227032107\n",
      "Finished Training\n",
      "Accuracy of the network on the 10000 test images: 99.1\n"
     ]
    }
   ],
   "source": [
    "batch_size = 64\n",
    "lr = 0.1\n",
    "optimizer = optim.SGD(model.parameters(), lr=lr)\n",
    "trainLoader, valLoader, testLoader = dataLoaders(train_dataset, test_dataset, batch_size)\n",
    "train(model, criterion, optimizer, epochs, trainLoader, valLoader, device)\n",
    "test(model, testLoader)"
   ]
  },
  {
   "cell_type": "code",
   "execution_count": 36,
   "metadata": {},
   "outputs": [
    {
     "name": "stdout",
     "output_type": "stream",
     "text": [
      "[1] Training loss: 0.009428337525396402\n",
      "[1] Validation Accuracy: 99.68333333333334\n",
      "[1] Validation loss: 0.008117626030264334\n",
      "[2] Training loss: 0.0073185321372360385\n",
      "[2] Validation Accuracy: 99.3\n",
      "[2] Validation loss: 0.021925993931832404\n",
      "[3] Training loss: 0.005838900316914651\n",
      "[3] Validation Accuracy: 99.45\n",
      "[3] Validation loss: 0.017236928757957938\n",
      "[4] Training loss: 0.009828248631059702\n",
      "[4] Validation Accuracy: 99.58333333333333\n",
      "[4] Validation loss: 0.012368442235264352\n",
      "[5] Training loss: 0.004359366406071864\n",
      "[5] Validation Accuracy: 99.7\n",
      "[5] Validation loss: 0.00961136930976515\n",
      "[6] Training loss: 0.006565598693311254\n",
      "[6] Validation Accuracy: 99.6\n",
      "[6] Validation loss: 0.012946556965463506\n",
      "[7] Training loss: 0.005584776523731509\n",
      "[7] Validation Accuracy: 99.75\n",
      "[7] Validation loss: 0.009457099502411593\n",
      "[8] Training loss: 0.004441795915062642\n",
      "[8] Validation Accuracy: 99.33333333333333\n",
      "[8] Validation loss: 0.02455222815213811\n",
      "[9] Training loss: 0.005580191421671139\n",
      "[9] Validation Accuracy: 99.61666666666666\n",
      "[9] Validation loss: 0.014727440299213142\n",
      "[10] Training loss: 0.005147125582273957\n",
      "[10] Validation Accuracy: 99.68333333333334\n",
      "[10] Validation loss: 0.01341932893431844\n",
      "Finished Training\n",
      "Accuracy of the network on the 10000 test images: 99.1\n"
     ]
    }
   ],
   "source": [
    "batch_size = 128\n",
    "lr = 0.001\n",
    "optimizer = optim.Adam(model.parameters(), lr=lr)\n",
    "trainLoader, valLoader, testLoader = dataLoaders(train_dataset, test_dataset, batch_size)\n",
    "train(model, criterion, optimizer, epochs, trainLoader, valLoader, device)\n",
    "test(model, testLoader)"
   ]
  },
  {
   "cell_type": "code",
   "execution_count": 37,
   "metadata": {},
   "outputs": [
    {
     "name": "stdout",
     "output_type": "stream",
     "text": [
      "[1] Training loss: 0.0018548704160979478\n",
      "[1] Validation Accuracy: 99.98333333333333\n",
      "[1] Validation loss: 0.0004584345503718502\n",
      "[2] Training loss: 0.0006294516433323289\n",
      "[2] Validation Accuracy: 99.98333333333333\n",
      "[2] Validation loss: 0.0005469121130170318\n",
      "[3] Training loss: 0.00027335202181524393\n",
      "[3] Validation Accuracy: 99.98333333333333\n",
      "[3] Validation loss: 0.0005508597227082991\n",
      "[4] Training loss: 0.00014668098978299097\n",
      "[4] Validation Accuracy: 99.98333333333333\n",
      "[4] Validation loss: 0.0006774327507044233\n",
      "[5] Training loss: 8.782699400598406e-05\n",
      "[5] Validation Accuracy: 99.96666666666667\n",
      "[5] Validation loss: 0.0005238630351326276\n",
      "[6] Training loss: 4.755531784539726e-05\n",
      "[6] Validation Accuracy: 99.96666666666667\n",
      "[6] Validation loss: 0.001067224011076667\n",
      "[7] Training loss: 2.185204278161507e-05\n",
      "[7] Validation Accuracy: 99.98333333333333\n",
      "[7] Validation loss: 0.0007904488377787238\n",
      "[8] Training loss: 2.008926119628155e-05\n",
      "[8] Validation Accuracy: 99.98333333333333\n",
      "[8] Validation loss: 0.0007901115920513807\n",
      "[9] Training loss: 8.32594393929776e-06\n",
      "[9] Validation Accuracy: 99.98333333333333\n",
      "[9] Validation loss: 0.0009340076482466883\n",
      "[10] Training loss: 1.633089557475314e-05\n",
      "[10] Validation Accuracy: 99.98333333333333\n",
      "[10] Validation loss: 0.0006929138834230056\n",
      "Finished Training\n",
      "Accuracy of the network on the 10000 test images: 99.2\n"
     ]
    }
   ],
   "source": [
    "batch_size = 64\n",
    "lr = 0.0001\n",
    "optimizer = optim.RMSprop(model.parameters(), lr=lr)\n",
    "trainLoader, valLoader, testLoader = dataLoaders(train_dataset, test_dataset, batch_size)\n",
    "train(model, criterion, optimizer, epochs, trainLoader, valLoader, device)\n",
    "test(model, testLoader)\n"
   ]
  },
  {
   "cell_type": "code",
   "execution_count": 38,
   "metadata": {},
   "outputs": [
    {
     "name": "stdout",
     "output_type": "stream",
     "text": [
      "[1] Training loss: 0.2787163868390508\n",
      "[1] Validation Accuracy: 94.1\n",
      "[1] Validation loss: 0.20534059279003836\n",
      "[2] Training loss: 0.11315503026201126\n",
      "[2] Validation Accuracy: 97.2\n",
      "[2] Validation loss: 0.0936748483082796\n",
      "[3] Training loss: 0.06659987114121728\n",
      "[3] Validation Accuracy: 98.13333333333334\n",
      "[3] Validation loss: 0.05724800653564323\n",
      "[4] Training loss: 0.04937244976342571\n",
      "[4] Validation Accuracy: 97.91666666666667\n",
      "[4] Validation loss: 0.07865862154768423\n",
      "[5] Training loss: 0.04101372938448678\n",
      "[5] Validation Accuracy: 98.55\n",
      "[5] Validation loss: 0.055193708434865374\n",
      "[6] Training loss: 0.037551344413796005\n",
      "[6] Validation Accuracy: 98.55\n",
      "[6] Validation loss: 0.05512323975003807\n",
      "[7] Training loss: 0.032213570556697345\n",
      "[7] Validation Accuracy: 98.5\n",
      "[7] Validation loss: 0.05646957797828091\n",
      "[8] Training loss: 0.027087716128681473\n",
      "[8] Validation Accuracy: 98.66666666666667\n",
      "[8] Validation loss: 0.05375227092002767\n",
      "[9] Training loss: 0.02442239491975019\n",
      "[9] Validation Accuracy: 98.73333333333333\n",
      "[9] Validation loss: 0.052517572075653045\n",
      "[10] Training loss: 0.023651603093078306\n",
      "[10] Validation Accuracy: 98.75\n",
      "[10] Validation loss: 0.052166272303972444\n",
      "Finished Training\n",
      "Accuracy of the network on the 10000 test images: 98.5\n"
     ]
    }
   ],
   "source": [
    "batch_size = 32\n",
    "lr = 0.1\n",
    "optimizer = optim.SGD(model.parameters(), lr=lr)\n",
    "trainLoader, valLoader, testLoader = dataLoaders(train_dataset, test_dataset, batch_size)\n",
    "train(model, criterion, optimizer, epochs, trainLoader, valLoader, device)\n",
    "test(model, testLoader)"
   ]
  },
  {
   "cell_type": "code",
   "execution_count": 39,
   "metadata": {},
   "outputs": [
    {
     "name": "stdout",
     "output_type": "stream",
     "text": [
      "[1] Training loss: 0.015333621001682935\n",
      "[1] Validation Accuracy: 99.63333333333334\n",
      "[1] Validation loss: 0.01161792690517688\n",
      "[2] Training loss: 0.009434876941478678\n",
      "[2] Validation Accuracy: 99.66666666666667\n",
      "[2] Validation loss: 0.0118786794659211\n",
      "[3] Training loss: 0.006211305291264873\n",
      "[3] Validation Accuracy: 99.53333333333333\n",
      "[3] Validation loss: 0.013985729745670935\n",
      "[4] Training loss: 0.0052621198197096665\n",
      "[4] Validation Accuracy: 99.66666666666667\n",
      "[4] Validation loss: 0.011535164685889693\n",
      "[5] Training loss: 0.00682968198292811\n",
      "[5] Validation Accuracy: 99.36666666666666\n",
      "[5] Validation loss: 0.02319845313050269\n",
      "[6] Training loss: 0.005061433625988249\n",
      "[6] Validation Accuracy: 99.51666666666667\n",
      "[6] Validation loss: 0.01813293851638322\n",
      "[7] Training loss: 0.0032777174901434483\n",
      "[7] Validation Accuracy: 99.56666666666666\n",
      "[7] Validation loss: 0.015574321479049259\n",
      "[8] Training loss: 0.0025395643652642336\n",
      "[8] Validation Accuracy: 99.3\n",
      "[8] Validation loss: 0.024316813376920418\n",
      "[9] Training loss: 0.004135977131810246\n",
      "[9] Validation Accuracy: 99.53333333333333\n",
      "[9] Validation loss: 0.018487690908977072\n",
      "[10] Training loss: 0.0037565138028719663\n",
      "[10] Validation Accuracy: 99.3\n",
      "[10] Validation loss: 0.028070029172243827\n",
      "Finished Training\n",
      "Accuracy of the network on the 10000 test images: 98.7\n"
     ]
    }
   ],
   "source": [
    "batch_size = 128\n",
    "lr = 0.001\n",
    "optimizer = optim.Adam(model.parameters(), lr=lr)\n",
    "epochs = 10\n",
    "trainLoader, valLoader, testLoader = dataLoaders(train_dataset, test_dataset, batch_size)\n",
    "train(model, criterion, optimizer, epochs, trainLoader, valLoader, device)\n",
    "test(model, testLoader)"
   ]
  },
  {
   "cell_type": "markdown",
   "metadata": {},
   "source": [
    "- Higher batch sizes (e.g., 128) generally lead to faster convergence and smoother training curves compared to smaller batch sizes (e.g., 32 or 64). In our observations, batch sizes of 32, 64, and 128 all achieve high accuracies, but the convergence patterns and final accuracy levels may vary. However, excessively large batch sizes might cause the model to converge to suboptimal solutions or even diverge due to decreased stochasticity in gradient updates.\n",
    "- A learning rate that is too low may result in slow convergence, while a learning rate that is too high can lead to unstable training and poor generalization. Learning rates of 0.0001 and 0.001 generally result in smoother training curves and higher final accuracies compared to a learning rate of 0.1, which exhibits more erratic behavior.\n",
    "- According to our observations, optimizers like Adam and RMSprop tend to converge faster and achieve higher accuracies compared to SGD with momentum.\n",
    "- Learning rate and optimizer choice have a more significant impact on classification accuracy compared to batch size.\n",
    "- Models trained with lower learning rates (e.g., 0.0001 or 0.001) using optimizers like Adam or RMSprop tend to achieve higher accuracies and more stable convergence behaviors."
   ]
  },
  {
   "cell_type": "markdown",
   "metadata": {},
   "source": [
    "### Compare the best performing CNN against the SIFT-BoVW-SVM approach"
   ]
  },
  {
   "cell_type": "markdown",
   "metadata": {},
   "source": [
    "- The accuracies obtained by our CNN models is much higher as compared to those obtained through SIFT-BoVW-SVM approach. \n",
    "- CNN models automatically learn hierarchical features from raw pixel values through multiple layers of convolutions, pooling, and non-linear activations. They data-driven and capable of learning intricate patterns directly from the images, which can lead to highly discriminative representations for classification tasks. In contrast, the SIFT-BoVW-SVM approach involves a handcrafted feature extraction pipeline. Scale-Invariant Feature Transform (SIFT) features are extracted from images, and then a Bag-of-Visual-Words (BoVW) model is used to represent each image as a histogram of visual words. While SIFT features are robust to variations in scale and rotation, they are less adaptive compared to features learned by CNNs.\n",
    "- CNNs learn feature representations in an end-to-end manner, optimizing both feature extraction and classification jointly during training. The SIFT-BoVW-SVM approach relies on handcrafted feature descriptors and a predefined pipeline for feature extraction and classification (unable to capture the full complexity).\n",
    "- CNNs require a large amount of labeled training data and computational resources for training. However, once trained, they can efficiently classify new images. The SIFT-BoVW-SVM approach is computationally expensive during both feature extraction and training. Additionally, the performance of the BoVW model heavily depends on the choice of parameters such as the number of clusters (visual words). As the number of clusters increases, the dimensionality of the feature space grows, which may lead to increased computational complexity and memory requirements. The SIFT-BoVW-SVM approach becomes extremely slow with the increase in number of clusters."
   ]
  },
  {
   "cell_type": "markdown",
   "metadata": {},
   "source": [
    "### Change in performance with increase in number of convolution layers"
   ]
  },
  {
   "cell_type": "code",
   "execution_count": 54,
   "metadata": {},
   "outputs": [],
   "source": [
    "class leNet2(nn.Module):\n",
    "    def __init__(self):\n",
    "        super(leNet2, self).__init__()\n",
    "        self.conv1 = nn.Conv2d(1, 6, 5)\n",
    "        self.conv12 = nn.Conv2d(6, 6, 5)\n",
    "        self.pool = nn.MaxPool2d(2)\n",
    "        self.conv2 = nn.Conv2d(6, 16, 5)\n",
    "        self.conv22 = nn.Conv2d(16, 16, 5)\n",
    "        self.fc1 = nn.Linear(16*1*1, 120)\n",
    "        self.fc2 = nn.Linear(120, 84)\n",
    "        self.fc3 = nn.Linear(84, 10)\n",
    "\n",
    "    def forward(self, x):\n",
    "        x = self.pool(F.relu(self.conv12(F.relu(self.conv1(x)))))\n",
    "        x = self.pool(F.relu(self.conv22(F.relu(self.conv2(x)))))\n",
    "        x = torch.flatten(x, 1)\n",
    "        x = F.relu(self.fc1(x))\n",
    "        x = F.relu(self.fc2(x))\n",
    "        x = self.fc3(x)\n",
    "        return x"
   ]
  },
  {
   "cell_type": "code",
   "execution_count": 55,
   "metadata": {},
   "outputs": [],
   "source": [
    "model2 = leNet2()\n",
    "model2 = model2.to(device)\n",
    "criterion = nn.CrossEntropyLoss()\n",
    "optimizer = optim.Adam(model2.parameters(), lr=0.001)\n",
    "epochs = 10\n",
    "batch_size = 64"
   ]
  },
  {
   "cell_type": "code",
   "execution_count": 56,
   "metadata": {},
   "outputs": [
    {
     "name": "stdout",
     "output_type": "stream",
     "text": [
      "[1] Training loss: 0.3873025266480107\n",
      "[1] Validation Accuracy: 95.33333333333333\n",
      "[1] Validation loss: 0.14703472275683221\n",
      "[2] Training loss: 0.11445595328894695\n",
      "[2] Validation Accuracy: 97.1\n",
      "[2] Validation loss: 0.08149114495856648\n",
      "[3] Training loss: 0.0815191919130816\n",
      "[3] Validation Accuracy: 97.61666666666666\n",
      "[3] Validation loss: 0.07671488789306517\n",
      "[4] Training loss: 0.06426801128336118\n",
      "[4] Validation Accuracy: 98.11666666666666\n",
      "[4] Validation loss: 0.05597338118550784\n",
      "[5] Training loss: 0.055721871849338155\n",
      "[5] Validation Accuracy: 98.11666666666666\n",
      "[5] Validation loss: 0.059553718162165516\n",
      "[6] Training loss: 0.04780875479814076\n",
      "[6] Validation Accuracy: 98.71666666666667\n",
      "[6] Validation loss: 0.04263108348761229\n",
      "[7] Training loss: 0.0426805719493373\n",
      "[7] Validation Accuracy: 98.56666666666666\n",
      "[7] Validation loss: 0.04601701566617579\n",
      "[8] Training loss: 0.03866735669370863\n",
      "[8] Validation Accuracy: 98.08333333333333\n",
      "[8] Validation loss: 0.06398343180425148\n",
      "[9] Training loss: 0.034174581251291435\n",
      "[9] Validation Accuracy: 98.8\n",
      "[9] Validation loss: 0.042260856125528545\n",
      "[10] Training loss: 0.03205054043890465\n",
      "[10] Validation Accuracy: 98.26666666666667\n",
      "[10] Validation loss: 0.05909735359966091\n",
      "Finished Training\n",
      "Accuracy of the network on the 10000 test images: 98.6\n"
     ]
    }
   ],
   "source": [
    "trainLoader, valLoader, testLoader = dataLoaders(train_dataset, test_dataset, batch_size)\n",
    "train(model2, criterion, optimizer, epochs, trainLoader, valLoader, device)\n",
    "test(model2, testLoader)"
   ]
  },
  {
   "cell_type": "markdown",
   "metadata": {},
   "source": [
    "- Original LeNet:\n",
    "    - Testing accuracy: 98.8%\n",
    "    - Final Validation loss: 0.05033082688091684\n",
    "\n",
    "- Double Convolutional Layers:\n",
    "    - Testing accuracy: 98.6%\n",
    "    - Final Validation loss: 0.05909735359966091\n",
    "\n",
    "- Increasing the number of convolutional layers increases the model's complexity and capacity to learn intricate patterns in the data. However, this increased complexity may not always lead to improved performance. It leads to faster convergence if you have double number of convolutional layers. However, it might be more prone to overfitting as compared to the original model. "
   ]
  },
  {
   "cell_type": "markdown",
   "metadata": {},
   "source": [
    "### Change in performance with varying dataset size"
   ]
  },
  {
   "cell_type": "code",
   "execution_count": 10,
   "metadata": {},
   "outputs": [],
   "source": [
    "def dataLoaders(train_dataset, test_dataset, batch_size, dataLen):\n",
    "    # trainSize = int(0.9 * len(train_dataset))\n",
    "    trainSize = int(0.9 * dataLen)\n",
    "    valSize = dataLen - trainSize\n",
    "    wasteSize = len(train_dataset) - dataLen\n",
    "    train_dataset, val_dataset, waste_dataset = random_split(train_dataset, [trainSize, valSize, wasteSize])\n",
    "    trainLoader = DataLoader(train_dataset, batch_size=batch_size, shuffle=True)\n",
    "    valLoader = DataLoader(val_dataset, batch_size=batch_size, shuffle=True)\n",
    "    testLoader = DataLoader(test_dataset, batch_size=batch_size, shuffle=True)\n",
    "    return trainLoader, valLoader, testLoader"
   ]
  },
  {
   "cell_type": "code",
   "execution_count": 59,
   "metadata": {},
   "outputs": [
    {
     "name": "stdout",
     "output_type": "stream",
     "text": [
      "Length of data: 600\n",
      "[1] Training loss: 2.2984461784362793\n",
      "[1] Validation Accuracy: 16.666666666666668\n",
      "[1] Validation loss: 2.287897825241089\n",
      "[2] Training loss: 2.285604821311103\n",
      "[2] Validation Accuracy: 16.666666666666668\n",
      "[2] Validation loss: 2.2673768997192383\n",
      "[3] Training loss: 2.2353653642866345\n",
      "[3] Validation Accuracy: 33.333333333333336\n",
      "[3] Validation loss: 2.161525249481201\n",
      "[4] Training loss: 2.027209851476881\n",
      "[4] Validation Accuracy: 35.0\n",
      "[4] Validation loss: 1.8264175653457642\n",
      "[5] Training loss: 1.6203526258468628\n",
      "[5] Validation Accuracy: 51.666666666666664\n",
      "[5] Validation loss: 1.5834287405014038\n",
      "[6] Training loss: 1.1757380565007527\n",
      "[6] Validation Accuracy: 56.666666666666664\n",
      "[6] Validation loss: 1.3060276508331299\n",
      "[7] Training loss: 0.9148714741071066\n",
      "[7] Validation Accuracy: 56.666666666666664\n",
      "[7] Validation loss: 1.0620474815368652\n",
      "[8] Training loss: 0.7923381659719679\n",
      "[8] Validation Accuracy: 65.0\n",
      "[8] Validation loss: 0.8983908295631409\n",
      "[9] Training loss: 0.715630269712872\n",
      "[9] Validation Accuracy: 65.0\n",
      "[9] Validation loss: 0.9344613552093506\n",
      "[10] Training loss: 0.6783010628488328\n",
      "[10] Validation Accuracy: 75.0\n",
      "[10] Validation loss: 0.7281205058097839\n",
      "Finished Training\n",
      "Accuracy of the network on the 10000 test images: 74.3\n",
      "Length of data: 1800\n",
      "[1] Training loss: 2.2876967650193434\n",
      "[1] Validation Accuracy: 20.0\n",
      "[1] Validation loss: 2.2269110679626465\n",
      "[2] Training loss: 1.7878325306452238\n",
      "[2] Validation Accuracy: 58.333333333333336\n",
      "[2] Validation loss: 1.2273447513580322\n",
      "[3] Training loss: 0.9042761749946154\n",
      "[3] Validation Accuracy: 73.88888888888889\n",
      "[3] Validation loss: 0.763527492682139\n",
      "[4] Training loss: 0.6261049027626331\n",
      "[4] Validation Accuracy: 78.33333333333333\n",
      "[4] Validation loss: 0.6324946085611979\n",
      "[5] Training loss: 0.5237534573444953\n",
      "[5] Validation Accuracy: 80.0\n",
      "[5] Validation loss: 0.5876050988833109\n",
      "[6] Training loss: 0.4486125839444307\n",
      "[6] Validation Accuracy: 82.77777777777777\n",
      "[6] Validation loss: 0.5013639330863953\n",
      "[7] Training loss: 0.3505858455139857\n",
      "[7] Validation Accuracy: 87.77777777777777\n",
      "[7] Validation loss: 0.3645630379517873\n",
      "[8] Training loss: 0.3229488782011546\n",
      "[8] Validation Accuracy: 88.33333333333333\n",
      "[8] Validation loss: 0.3665521244208018\n",
      "[9] Training loss: 0.2763915437345321\n",
      "[9] Validation Accuracy: 88.33333333333333\n",
      "[9] Validation loss: 0.3840641776720683\n",
      "[10] Training loss: 0.23799389199568674\n",
      "[10] Validation Accuracy: 91.11111111111111\n",
      "[10] Validation loss: 0.36095717549324036\n",
      "Finished Training\n",
      "Accuracy of the network on the 10000 test images: 89.5\n",
      "Length of data: 6000\n",
      "[1] Training loss: 1.59757218431024\n",
      "[1] Validation Accuracy: 73.5\n",
      "[1] Validation loss: 0.7290310561656952\n",
      "[2] Training loss: 0.6274604963905671\n",
      "[2] Validation Accuracy: 86.0\n",
      "[2] Validation loss: 0.4117923125624657\n",
      "[3] Training loss: 0.3702366473043666\n",
      "[3] Validation Accuracy: 89.5\n",
      "[3] Validation loss: 0.30213361978530884\n",
      "[4] Training loss: 0.2783691017066731\n",
      "[4] Validation Accuracy: 92.5\n",
      "[4] Validation loss: 0.22407407462596893\n",
      "[5] Training loss: 0.22583194979849983\n",
      "[5] Validation Accuracy: 93.33333333333333\n",
      "[5] Validation loss: 0.17425687089562417\n",
      "[6] Training loss: 0.18503523341873113\n",
      "[6] Validation Accuracy: 96.16666666666667\n",
      "[6] Validation loss: 0.12984784841537475\n",
      "[7] Training loss: 0.1544616246048142\n",
      "[7] Validation Accuracy: 94.33333333333333\n",
      "[7] Validation loss: 0.1673831580206752\n",
      "[8] Training loss: 0.14034614107188056\n",
      "[8] Validation Accuracy: 94.33333333333333\n",
      "[8] Validation loss: 0.16225223764777183\n",
      "[9] Training loss: 0.11950629239573199\n",
      "[9] Validation Accuracy: 96.16666666666667\n",
      "[9] Validation loss: 0.10840071067214012\n",
      "[10] Training loss: 0.10252927253570626\n",
      "[10] Validation Accuracy: 96.33333333333333\n",
      "[10] Validation loss: 0.10642522349953651\n",
      "Finished Training\n",
      "Accuracy of the network on the 10000 test images: 95.9\n",
      "Length of data: 18000\n",
      "[1] Training loss: 0.7646651515575844\n",
      "[1] Validation Accuracy: 91.33333333333333\n",
      "[1] Validation loss: 0.2591380405014959\n",
      "[2] Training loss: 0.22080064672008742\n",
      "[2] Validation Accuracy: 95.77777777777777\n",
      "[2] Validation loss: 0.14444869869099608\n",
      "[3] Training loss: 0.14786775876569935\n",
      "[3] Validation Accuracy: 95.77777777777777\n",
      "[3] Validation loss: 0.13548365877620105\n",
      "[4] Training loss: 0.11004767120691149\n",
      "[4] Validation Accuracy: 97.38888888888889\n",
      "[4] Validation loss: 0.08355971037185397\n",
      "[5] Training loss: 0.08676824045521538\n",
      "[5] Validation Accuracy: 97.77777777777777\n",
      "[5] Validation loss: 0.10305393587573078\n",
      "[6] Training loss: 0.07603851836688054\n",
      "[6] Validation Accuracy: 97.61111111111111\n",
      "[6] Validation loss: 0.07177408032344076\n",
      "[7] Training loss: 0.062246177384013855\n",
      "[7] Validation Accuracy: 98.16666666666667\n",
      "[7] Validation loss: 0.06798584674131768\n",
      "[8] Training loss: 0.053204939931202094\n",
      "[8] Validation Accuracy: 98.27777777777777\n",
      "[8] Validation loss: 0.05860753306428548\n",
      "[9] Training loss: 0.04788251664062346\n",
      "[9] Validation Accuracy: 98.38888888888889\n",
      "[9] Validation loss: 0.060148923786292816\n",
      "[10] Training loss: 0.04040393899100939\n",
      "[10] Validation Accuracy: 98.55555555555556\n",
      "[10] Validation loss: 0.05188921030414098\n",
      "Finished Training\n",
      "Accuracy of the network on the 10000 test images: 98.0\n",
      "Length of data: 60000\n",
      "[1] Training loss: 0.321739318308319\n",
      "[1] Validation Accuracy: 96.86666666666666\n",
      "[1] Validation loss: 0.08937395299646131\n",
      "[2] Training loss: 0.0870715104003759\n",
      "[2] Validation Accuracy: 98.01666666666667\n",
      "[2] Validation loss: 0.06588912880583171\n",
      "[3] Training loss: 0.06348205254298979\n",
      "[3] Validation Accuracy: 98.31666666666666\n",
      "[3] Validation loss: 0.049725475562538236\n",
      "[4] Training loss: 0.05399810079685456\n",
      "[4] Validation Accuracy: 98.1\n",
      "[4] Validation loss: 0.058983581286775784\n",
      "[5] Training loss: 0.04532600226733443\n",
      "[5] Validation Accuracy: 98.53333333333333\n",
      "[5] Validation loss: 0.048561876121427906\n",
      "[6] Training loss: 0.04188452399665047\n",
      "[6] Validation Accuracy: 98.5\n",
      "[6] Validation loss: 0.05028861940793812\n",
      "[7] Training loss: 0.037282329006651606\n",
      "[7] Validation Accuracy: 98.45\n",
      "[7] Validation loss: 0.0476160833291323\n",
      "[8] Training loss: 0.03386293527983588\n",
      "[8] Validation Accuracy: 98.68333333333334\n",
      "[8] Validation loss: 0.04640251390098475\n",
      "[9] Training loss: 0.030865622952725144\n",
      "[9] Validation Accuracy: 98.71666666666667\n",
      "[9] Validation loss: 0.04200574529370878\n",
      "[10] Training loss: 0.02649949713989014\n",
      "[10] Validation Accuracy: 98.81666666666666\n",
      "[10] Validation loss: 0.03836382859902942\n",
      "Finished Training\n",
      "Accuracy of the network on the 10000 test images: 98.9\n"
     ]
    }
   ],
   "source": [
    "lenData = [600, 1800, 6000, 18000, 60000]\n",
    "\n",
    "for dataLen in lenData:\n",
    "    model = leNet()\n",
    "    model = model.to(device)\n",
    "    criterion = nn.CrossEntropyLoss()\n",
    "    optimizer = optim.Adam(model.parameters(), lr=0.001)\n",
    "    print(f'Length of data: {dataLen}')\n",
    "    trainLoader, valLoader, testLoader = dataLoaders(train_dataset, test_dataset, batch_size, dataLen)\n",
    "    train(model, criterion, optimizer, epochs, trainLoader, valLoader, device)\n",
    "    test(model, testLoader)"
   ]
  },
  {
   "cell_type": "markdown",
   "metadata": {},
   "source": [
    "- Our accuracy increases from 75% to 99% with increase in the amount of data being used for processing.\n",
    "- More data provides the model with a better understanding of the underlying patterns in the dataset, leading to higher accuracy.\n",
    "- When number of sample is 600: The model's performance is relatively low with a small dataset. With limited data, the model struggles to capture the underlying patterns in the dataset, resulting in lower accuracy.\n",
    "- With a substantial increase in training data to 60,000 samples, we observe the highest accuracy achieved by the model. The abundance of training examples allows the model to capture a wide range of variations in the data, resulting in superior performance.\n",
    "- With a larger dataset, the model can generalize better to unseen examples. It learns to extract relevant features and patterns that are more representative of the entire dataset, rather than memorizing specific instances from a smaller dataset."
   ]
  },
  {
   "cell_type": "markdown",
   "metadata": {},
   "source": [
    "### Train a 2 layer TransformerEncoder and evaluate classification accuracies on varying dataset sizes "
   ]
  },
  {
   "cell_type": "code",
   "execution_count": 30,
   "metadata": {},
   "outputs": [],
   "source": [
    "from torch.nn import TransformerEncoder, TransformerEncoderLayer\n",
    "class ViT(nn.Module):\n",
    "\n",
    "    def __init__(self, input_dim, hidden_dim, output_dim, num_layers, nhead):\n",
    "        super(ViT, self).__init__()\n",
    "        self.patchSize = 7\n",
    "        self.hidden_dim = hidden_dim\n",
    "        self.nhead = nhead\n",
    "        self.num_layers = num_layers\n",
    "        self.patchDim = self.patchSize**2\n",
    "        self.patchesNum = (28//self.patchSize)**2\n",
    "        self.posEmbed = nn.Parameter(torch.randn(1, self.patchesNum + 1, hidden_dim))\n",
    "        self.projection = nn.Linear(self.patchDim, hidden_dim)\n",
    "        self.tokens = nn.Parameter(torch.randn(1, 1, hidden_dim))\n",
    "        self.encoder_layer = TransformerEncoderLayer(d_model=hidden_dim, nhead=nhead, batch_first=True)\n",
    "        self.transformer_encoder = TransformerEncoder(self.encoder_layer, num_layers=num_layers)\n",
    "        self.fc = nn.Linear(hidden_dim, 256)\n",
    "        self.fc2 = nn.Linear(256, output_dim)\n",
    "\n",
    "    def forward(self, x):\n",
    "        batch_size, channels, width, height = x.size()\n",
    "        patchSize = self.patchSize\n",
    "        x = x.unfold(2, patchSize, patchSize).unfold(3, patchSize, patchSize)\n",
    "        x = x.contiguous().view(batch_size, channels, -1, patchSize, patchSize)\n",
    "        x = x.permute(0, 2, 3, 4, 1)\n",
    "        x = x.reshape(batch_size, -1, channels*patchSize*patchSize)\n",
    "        x = self.projection(x)\n",
    "        x = torch.cat((self.tokens.expand(batch_size, -1, -1), x), dim=1)\n",
    "        x += self.posEmbed\n",
    "        x = self.transformer_encoder(x)\n",
    "        x = x[:, 0, :]\n",
    "        x = F.relu(self.fc(x))\n",
    "        x = F.softmax(self.fc2(x), dim=1)\n",
    "        return x\n"
   ]
  },
  {
   "cell_type": "code",
   "execution_count": 31,
   "metadata": {},
   "outputs": [],
   "source": [
    "batch_size = 64\n",
    "trainSize = int(0.9 * len(trainset))\n",
    "valSize = len(trainset) - trainSize\n",
    "train_dataset, val_dataset = random_split(trainset, [trainSize, valSize])\n",
    "trainLoader = DataLoader(train_dataset, batch_size=batch_size, shuffle=True)\n",
    "valLoader = DataLoader(val_dataset, batch_size=batch_size, shuffle=True)\n",
    "testLoader = DataLoader(testset, batch_size=batch_size, shuffle=True)\n"
   ]
  },
  {
   "cell_type": "code",
   "execution_count": 32,
   "metadata": {},
   "outputs": [],
   "source": [
    "inputDim = 16\n",
    "hiddenDim = 64\n",
    "outputDim = 10\n",
    "numLayers = 2\n",
    "nhead = 4\n",
    "device = torch.device('cuda' if torch.cuda.is_available() else 'cpu')\n",
    "model3 = ViT(inputDim, hiddenDim, outputDim, numLayers, nhead)\n",
    "model3 = model3.to(device)\n",
    "criterion = nn.CrossEntropyLoss()\n",
    "optimizer = optim.Adam(model3.parameters(), lr=0.0001)"
   ]
  },
  {
   "cell_type": "code",
   "execution_count": 33,
   "metadata": {},
   "outputs": [],
   "source": [
    "def train(model, criterion, optimizer, epochs, trainLoader, valLoader, device):\n",
    "    for epoch in range(epochs):\n",
    "        running_loss = 0.0\n",
    "        for i, data in enumerate(trainLoader, 0):\n",
    "            inputs, labels = data\n",
    "            # inputs = inputs.view(-1, inputDim)\n",
    "            inputs = inputs.to(device)\n",
    "            labels = labels.to(device)\n",
    "            optimizer.zero_grad()\n",
    "            outputs = model(inputs)\n",
    "            loss = criterion(outputs, labels)\n",
    "            loss.backward()\n",
    "            optimizer.step()\n",
    "            running_loss += loss.item()\n",
    "            if i % 400 == 399:\n",
    "                print(f'[{epoch + 1}, {i + 1}] loss: {running_loss / 1000}')\n",
    "                running_loss = 0.0\n",
    "        correct = 0\n",
    "        total = 0\n",
    "        with torch.no_grad():\n",
    "            loss = 0.0\n",
    "            for data in valLoader:\n",
    "                images, labels = data\n",
    "                images = images.to(device)\n",
    "                labels = labels.to(device)\n",
    "                outputs = model(images)\n",
    "                loss += criterion(outputs, labels).item()\n",
    "                _, predicted = torch.max(outputs.data, 1)\n",
    "                total += labels.size(0)\n",
    "                correct += (predicted == labels).sum().item()\n",
    "            print(f'[{epoch + 1}] loss: {loss / len(valLoader)}')\n",
    "        print(\"Validation Accuracy: \", 100 * correct / total)\n",
    "    torch.save(model.state_dict(), 'modelTrans.pth')\n",
    "\n",
    "    print('Finished Training')\n",
    "\n",
    "def test(model, testLoader):\n",
    "    correct = 0\n",
    "    total = 0\n",
    "    with torch.no_grad():\n",
    "        for data in testLoader:\n",
    "            images, labels = data\n",
    "            # images = images.view(-1, inputDim)\n",
    "            images = images.to(device)\n",
    "            labels = labels.to(device)\n",
    "            outputs = model(images)\n",
    "            _, predicted = torch.max(outputs.data, 1)\n",
    "            total += labels.size(0)\n",
    "            correct += (predicted == labels).sum().item()\n",
    "        print('Accuracy of the network on the {} test images: {:.1f}'.format(total, 100 * correct / total))"
   ]
  },
  {
   "cell_type": "code",
   "execution_count": 34,
   "metadata": {},
   "outputs": [
    {
     "name": "stdout",
     "output_type": "stream",
     "text": [
      "[1, 400] loss: 0.8403193817138672\n",
      "[1, 800] loss: 0.7007005299329758\n",
      "[1] loss: 1.6975333766734346\n",
      "Validation Accuracy:  77.86666666666666\n",
      "[2, 400] loss: 0.6722686799764633\n",
      "[2, 800] loss: 0.6535521035194397\n",
      "[2] loss: 1.6249218786016424\n",
      "Validation Accuracy:  84.63333333333334\n",
      "[3, 400] loss: 0.641171721458435\n",
      "[3, 800] loss: 0.6354814049005508\n",
      "[3] loss: 1.5751493281506477\n",
      "Validation Accuracy:  89.35\n",
      "[4, 400] loss: 0.6322907426357269\n",
      "[4, 800] loss: 0.6279182430505753\n",
      "[4] loss: 1.5621721503582406\n",
      "Validation Accuracy:  90.15\n",
      "[5, 400] loss: 0.624608544588089\n",
      "[5, 800] loss: 0.6230396945476532\n",
      "[5] loss: 1.553807092473862\n",
      "Validation Accuracy:  90.96666666666667\n",
      "[6, 400] loss: 0.6209219110012054\n",
      "[6, 800] loss: 0.6188151051998139\n",
      "[6] loss: 1.5495095037399453\n",
      "Validation Accuracy:  91.31666666666666\n",
      "[7, 400] loss: 0.6185083919763565\n",
      "[7, 800] loss: 0.6172711837291718\n",
      "[7] loss: 1.5374362557492358\n",
      "Validation Accuracy:  92.7\n",
      "[8, 400] loss: 0.6153932087421418\n",
      "[8, 800] loss: 0.614757342338562\n",
      "[8] loss: 1.5406864995652056\n",
      "Validation Accuracy:  92.23333333333333\n",
      "[9, 400] loss: 0.6128403813838958\n",
      "[9, 800] loss: 0.6133739786148071\n",
      "[9] loss: 1.5287661983611736\n",
      "Validation Accuracy:  93.38333333333334\n",
      "[10, 400] loss: 0.6119105079174042\n",
      "[10, 800] loss: 0.6103111603260041\n",
      "[10] loss: 1.5302071152849401\n",
      "Validation Accuracy:  93.1\n",
      "Finished Training\n",
      "Accuracy of the network on the 10000 test images: 93.7\n"
     ]
    }
   ],
   "source": [
    "epochs = 10\n",
    "train(model3, criterion, optimizer, epochs, trainLoader, valLoader, device)\n",
    "test(model3, testLoader)"
   ]
  },
  {
   "cell_type": "code",
   "execution_count": 35,
   "metadata": {},
   "outputs": [],
   "source": [
    "batch_size = 64\n",
    "trainSize = 5400\n",
    "valSize = 600\n",
    "wasteSize = 54000\n",
    "train_dataset, val_dataset, waste_dataset = random_split(trainset, [trainSize, valSize, wasteSize])\n",
    "trainLoader = DataLoader(train_dataset, batch_size=batch_size, shuffle=True)\n",
    "valLoader = DataLoader(val_dataset, batch_size=batch_size, shuffle=True)\n",
    "testLoader = DataLoader(testset, batch_size=batch_size, shuffle=True)"
   ]
  },
  {
   "cell_type": "code",
   "execution_count": 36,
   "metadata": {},
   "outputs": [
    {
     "name": "stdout",
     "output_type": "stream",
     "text": [
      "[1] loss: 2.2811625957489015\n",
      "Validation Accuracy:  18.0\n",
      "[2] loss: 2.2101547479629517\n",
      "Validation Accuracy:  26.833333333333332\n",
      "[3] loss: 2.070841407775879\n",
      "Validation Accuracy:  45.0\n",
      "[4] loss: 1.9706135272979737\n",
      "Validation Accuracy:  51.333333333333336\n",
      "[5] loss: 1.8980331659317016\n",
      "Validation Accuracy:  60.666666666666664\n",
      "[6] loss: 1.8242630243301392\n",
      "Validation Accuracy:  70.5\n",
      "[7] loss: 1.776163387298584\n",
      "Validation Accuracy:  71.33333333333333\n",
      "[8] loss: 1.7163463950157165\n",
      "Validation Accuracy:  79.0\n",
      "[9] loss: 1.6777763962745667\n",
      "Validation Accuracy:  79.83333333333333\n",
      "[10] loss: 1.6806558132171632\n",
      "Validation Accuracy:  80.16666666666667\n",
      "Finished Training\n",
      "Accuracy of the network on the 10000 test images: 80.1\n"
     ]
    }
   ],
   "source": [
    "model3 = ViT(inputDim, hiddenDim, outputDim, numLayers, nhead)\n",
    "model3 = model3.to(device)\n",
    "criterion = nn.CrossEntropyLoss()\n",
    "optimizer = optim.Adam(model3.parameters(), lr=0.0001)\n",
    "train(model3, criterion, optimizer, epochs, trainLoader, valLoader, device)\n",
    "test(model3, testLoader)"
   ]
  },
  {
   "cell_type": "markdown",
   "metadata": {},
   "source": [
    "- The ViT model achieves a high validation and test accuracy when trained with 60K samples, surpassing 90% accuracy. This indicates that the model has effectively learned the representations from the large dataset, leading to strong generalization performance.\n",
    "- With less size of data, VitT is unable to capture the effective representations and generalizations in the data.\n",
    "- The ViT model trained with 6K samples achieves a lower validation and test accuracy compared to the model trained with 60K samples. While the accuracy is still reasonable, it falls short of the performance achieved with a larger dataset.\n",
    "- ViT models, with their self-attention mechanism, are known for their ability to capture long-range dependencies and learn representations effectively. However, this effectiveness is highly dependent on the size and diversity of the training data. With a larger dataset, the ViT model can learn more comprehensive representations, leading to higher accuracy."
   ]
  }
 ],
 "metadata": {
  "kernelspec": {
   "display_name": "Python 3",
   "language": "python",
   "name": "python3"
  },
  "language_info": {
   "codemirror_mode": {
    "name": "ipython",
    "version": 3
   },
   "file_extension": ".py",
   "mimetype": "text/x-python",
   "name": "python",
   "nbconvert_exporter": "python",
   "pygments_lexer": "ipython3",
   "version": "3.11.6"
  }
 },
 "nbformat": 4,
 "nbformat_minor": 2
}
